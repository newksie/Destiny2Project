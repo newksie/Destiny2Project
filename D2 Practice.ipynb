{
 "cells": [
  {
   "cell_type": "markdown",
   "metadata": {},
   "source": [
    "# Destiny 2 ML practice project"
   ]
  },
  {
   "cell_type": "markdown",
   "metadata": {},
   "source": [
    "Many thanks to Garrick Fernandez (https://github.com/garrickf) for guidance on code for Bungie API data collection!"
   ]
  },
  {
   "cell_type": "markdown",
   "metadata": {},
   "source": [
    "This will be an exploration of various data science concepts, with no set plan as of now other than to explore the data available. A couple ideas could be: <br>\n",
    "-Identifying hackers in trails  <br>\n",
    "-Predicting which team will win in PvP  <br>\n",
    "-Identify trends which increase player engagement eg. good trials weapon hypothesis testing??<br>"
   ]
  },
  {
   "cell_type": "code",
   "execution_count": null,
   "metadata": {
    "scrolled": true
   },
   "outputs": [],
   "source": [
    "import data_collection1.py"
   ]
  },
  {
   "cell_type": "code",
   "execution_count": 15,
   "metadata": {},
   "outputs": [],
   "source": [
    "AllPvP = 5\n",
    "Control = 10\n",
    "Clash = 12\n",
    "IronBanner=19\n",
    "TrialsOfOsiris = 84"
   ]
  },
  {
   "cell_type": "code",
   "execution_count": null,
   "metadata": {},
   "outputs": [],
   "source": []
  },
  {
   "cell_type": "code",
   "execution_count": null,
   "metadata": {},
   "outputs": [],
   "source": []
  },
  {
   "cell_type": "code",
   "execution_count": null,
   "metadata": {},
   "outputs": [],
   "source": []
  },
  {
   "cell_type": "code",
   "execution_count": null,
   "metadata": {},
   "outputs": [],
   "source": []
  },
  {
   "cell_type": "code",
   "execution_count": 18,
   "metadata": {},
   "outputs": [],
   "source": []
  },
  {
   "cell_type": "code",
   "execution_count": null,
   "metadata": {},
   "outputs": [],
   "source": []
  },
  {
   "cell_type": "code",
   "execution_count": 20,
   "metadata": {},
   "outputs": [
    {
     "name": "stdout",
     "output_type": "stream",
     "text": [
      "Gjallarhorn\n"
     ]
    }
   ],
   "source": [
    "HEADERS = {\"X-API-Key\":os.environ[\"BUNGIE_API_KEY\"]}\n",
    "weapon = requests.get(\"https://www.bungie.net/platform/Destiny/Manifest/InventoryItem/1274330687/\", headers=HEADERS)\n",
    "inventoryItem = weapon.json()\n",
    "print(inventoryItem['Response']['data']['inventoryItem']['itemName'])"
   ]
  },
  {
   "cell_type": "code",
   "execution_count": 64,
   "metadata": {},
   "outputs": [
    {
     "name": "stdout",
     "output_type": "stream",
     "text": [
      "Gjallarhorn\n"
     ]
    }
   ],
   "source": [
    "weapon = requests.get(\"https://www.bungie.net/platform/Destiny/Manifest/InventoryItem/1274330687/\", headers=HEADERS)\n",
    "inventoryItem = weapon.json()\n",
    "print(inventoryItem['Response']['data']['inventoryItem']['itemName'])"
   ]
  },
  {
   "cell_type": "code",
   "execution_count": 65,
   "metadata": {},
   "outputs": [
    {
     "data": {
      "text/plain": [
       "{'Response': {'period': '2017-09-08T04:23:17Z',\n",
       "  'startingPhaseIndex': 0,\n",
       "  'activityWasStartedFromBeginning': False,\n",
       "  'activityDetails': {'referenceId': 2266954523,\n",
       "   'directorActivityHash': 2266954523,\n",
       "   'instanceId': '84005478',\n",
       "   'mode': 2,\n",
       "   'modes': [7, 2],\n",
       "   'isPrivate': False,\n",
       "   'membershipType': 0},\n",
       "  'entries': [{'standing': 0,\n",
       "    'score': {'basic': {'value': 0.0, 'displayValue': '0'}},\n",
       "    'player': {'destinyUserInfo': {'iconPath': '/common/destiny2_content/icons/ecd4608be3fb1c02755a96dc104dc003.jpg',\n",
       "      'crossSaveOverride': 2,\n",
       "      'applicableMembershipTypes': [3, 2],\n",
       "      'isPublic': True,\n",
       "      'membershipType': 2,\n",
       "      'membershipId': '4611686018450981322',\n",
       "      'displayName': 'rockerman91',\n",
       "      'bungieGlobalDisplayName': 'rockerman91',\n",
       "      'bungieGlobalDisplayNameCode': 4972},\n",
       "     'characterClass': 'Titan',\n",
       "     'classHash': 3655393761,\n",
       "     'raceHash': 3887404748,\n",
       "     'genderHash': 3111576190,\n",
       "     'characterLevel': 20,\n",
       "     'lightLevel': 283,\n",
       "     'emblemHash': 3338748564},\n",
       "    'characterId': '2305843009267430111',\n",
       "    'values': {'assists': {'basic': {'value': 0.0, 'displayValue': '0'}},\n",
       "     'completed': {'basic': {'value': 1.0, 'displayValue': 'Yes'}},\n",
       "     'deaths': {'basic': {'value': 0.0, 'displayValue': '0'}},\n",
       "     'kills': {'basic': {'value': 0.0, 'displayValue': '0'}},\n",
       "     'opponentsDefeated': {'basic': {'value': 0.0, 'displayValue': '0'}},\n",
       "     'efficiency': {'basic': {'value': 0.0, 'displayValue': '0.00'}},\n",
       "     'killsDeathsRatio': {'basic': {'value': 0.0, 'displayValue': '0.00'}},\n",
       "     'killsDeathsAssists': {'basic': {'value': 0.0, 'displayValue': '0.00'}},\n",
       "     'score': {'basic': {'value': 0.0, 'displayValue': '0'}},\n",
       "     'activityDurationSeconds': {'basic': {'value': 27.0,\n",
       "       'displayValue': '0m 27s'}},\n",
       "     'completionReason': {'basic': {'value': 0.0,\n",
       "       'displayValue': 'Objective Completed'}},\n",
       "     'fireteamId': {'basic': {'value': 0.0, 'displayValue': ''}},\n",
       "     'startSeconds': {'basic': {'value': 0.0, 'displayValue': '0m 0s'}},\n",
       "     'timePlayedSeconds': {'basic': {'value': 27.0, 'displayValue': '0m 27s'}},\n",
       "     'playerCount': {'basic': {'value': 1.0, 'displayValue': '1'}},\n",
       "     'teamScore': {'basic': {'value': 0.0, 'displayValue': '0'}}},\n",
       "    'extended': {'values': {'precisionKills': {'basic': {'value': 0.0,\n",
       "        'displayValue': '0'}},\n",
       "      'weaponKillsGrenade': {'basic': {'value': 0.0, 'displayValue': '0'}},\n",
       "      'weaponKillsMelee': {'basic': {'value': 0.0, 'displayValue': '0'}},\n",
       "      'weaponKillsSuper': {'basic': {'value': 0.0, 'displayValue': '0'}},\n",
       "      'weaponKillsAbility': {'basic': {'value': 0.0, 'displayValue': '0'}}}}}],\n",
       "  'teams': []},\n",
       " 'ErrorCode': 1,\n",
       " 'ThrottleSeconds': 0,\n",
       " 'ErrorStatus': 'Success',\n",
       " 'Message': 'Ok',\n",
       " 'MessageData': {}}"
      ]
     },
     "execution_count": 65,
     "metadata": {},
     "output_type": "execute_result"
    }
   ],
   "source": [
    "game = requests.get(\"https://www.bungie.net/platform/Destiny2/Stats/PostGameCarnageReport/84005478/\", headers=HEADERS)\n",
    "report = game.json()\n",
    "report"
   ]
  },
  {
   "cell_type": "code",
   "execution_count": null,
   "metadata": {},
   "outputs": [],
   "source": [
    "try1 = requests.get(\"https://www.bungie.net/Platform/User/GetBungieNetUserById/1/\",headers=HEADERS)\n",
    "print(try1)\n",
    "try1.json()"
   ]
  },
  {
   "cell_type": "code",
   "execution_count": null,
   "metadata": {},
   "outputs": [],
   "source": [
    "try2 = requests.get(\"https://www.bungie.net/Platform/Trending/Categories/\", headers=HEADERS)\n",
    "try2.json()"
   ]
  },
  {
   "cell_type": "code",
   "execution_count": null,
   "metadata": {},
   "outputs": [],
   "source": [
    "try3 = requests.get(\"https://www.bungie.net/Platform//HelloWorld/\", headers=HEADERS)\n",
    "try3.json()"
   ]
  },
  {
   "cell_type": "code",
   "execution_count": null,
   "metadata": {},
   "outputs": [],
   "source": [
    "try4 = requests.get(\"https://www.bungie.net/Platform//GlobalAlerts/\", headers=HEADERS)\n",
    "try4.json()"
   ]
  },
  {
   "cell_type": "code",
   "execution_count": null,
   "metadata": {},
   "outputs": [],
   "source": [
    "try5 = requests.get(\"https://bungie.net/Platform/Destiny2/Stats/PostGameCarnageReport/\" + str(7234123546),headers=HEADERS)\n",
    "try5.json()"
   ]
  },
  {
   "cell_type": "code",
   "execution_count": null,
   "metadata": {},
   "outputs": [],
   "source": [
    "try6 = requests.get(\"https://bungie.net/Platform/Destiny2/SearchDestinyPlayer/All/\" + 'newksie', headers=HEADERS)\n",
    "try6.json()"
   ]
  },
  {
   "cell_type": "code",
   "execution_count": null,
   "metadata": {},
   "outputs": [],
   "source": [
    "try7 = requests.get(\"https://www.bungie.net/Platform/User/Search/Prefix/newksie/0/\", headers=HEADERS)\n",
    "mymembershipId = try7.json()['Response']['searchResults'][0]['destinyMemberships'][0]['membershipId']\n",
    "mymembershipId\n",
    "#try8 = requests.get(\"https://www.bungie.net/Platform/Destiny2/3/Profile/\"+str(mymembershipId)+'/',headers=HEADERS)\n",
    "#try8.json()"
   ]
  },
  {
   "cell_type": "code",
   "execution_count": 105,
   "metadata": {},
   "outputs": [],
   "source": [
    "import json\n",
    "import logging\n",
    "import os\n",
    "import pickle\n",
    "import time\n",
    "from os.path import dirname, join, normpath, realpath\n",
    "from urllib.parse import urljoin\n",
    "\n",
    "import pandas as pd\n",
    "import requests\n",
    "from dotenv import load_dotenv\n",
    "\n",
    "def get_director_activity_name(activity):\n",
    "    # Uses the directorActivityHash of the\n",
    "    # HistoricalStats.DestinyHistoricalStatsActivity (i.e., the entries of the\n",
    "    # activity history)\n",
    "    activity_hash = activity[\"activityDetails\"][\"directorActivityHash\"]\n",
    "\n",
    "    # Localize using manifest\n",
    "    return INDEX[\"DestinyActivityDefinition\"][activity_hash][\"displayProperties\"][\n",
    "        \"name\"\n",
    "    ]\n",
    "\n",
    "\n",
    "def get_activity_period(activity):\n",
    "    # TODO may want to parse datetime string or use for certain things\n",
    "    return activity[\"period\"]\n",
    "\n",
    "\n",
    "def get_activity_reference_id(activity):\n",
    "    # NOTE more properly thought of as the activityHash. Maps to\n",
    "    # DestinyActivityDefinition in manifest.\n",
    "    return activity[\"activityDetails\"][\"referenceId\"]\n",
    "\n",
    "\n",
    "def get_activity_instance_id(activity):\n",
    "    # Used for looking up post-game carnage reports (PGCRs)\n",
    "    return activity[\"activityDetails\"][\"instanceId\"]\n",
    "\n",
    "\n",
    "def get_activity_values(activity):\n",
    "    return activity[\"values\"]\n",
    "\n",
    "\n",
    "def get_value_kills(values):\n",
    "    if \"kills\" in values:\n",
    "        return values[\"kills\"][\"basic\"][\"value\"]\n",
    "    else:\n",
    "        return None\n",
    "\n",
    "\n",
    "def get_value_deaths(values):\n",
    "    if \"deaths\" in values:\n",
    "        return values[\"deaths\"][\"basic\"][\"value\"]\n",
    "    else:\n",
    "        return None\n",
    "\n",
    "\n",
    "def get_value_assists(values):\n",
    "    # NOTE: takes in values object from activity summary\n",
    "    if \"assists\" in values:\n",
    "        return values[\"assists\"][\"basic\"][\"value\"]\n",
    "    else:\n",
    "        return None\n",
    "\n",
    "\n",
    "def get_value_score(values):\n",
    "    if \"score\" in values:\n",
    "        return values[\"score\"][\"basic\"][\"value\"]\n",
    "    else:\n",
    "        return None\n",
    "\n",
    "\n",
    "def get_value_completed(values):\n",
    "    # 1 if completed, NOTE haven't seen not completed but assuming it's 0\n",
    "    if \"completed\" in values:\n",
    "        return values[\"completed\"][\"basic\"][\"value\"]\n",
    "    else:\n",
    "        return None\n",
    "\n",
    "\n",
    "def get_value_opponents_defeated(values):\n",
    "    # TODO what is the difference between this and kills?\n",
    "    if \"opponentsDefeated\" in values:\n",
    "        return values[\"opponentsDefeated\"][\"basic\"][\"value\"]\n",
    "    else:\n",
    "        return None\n",
    "\n",
    "\n",
    "def get_value_combat_efficiency(values):\n",
    "    if \"efficiency\" in values:\n",
    "        return values[\"efficiency\"][\"basic\"][\"value\"]\n",
    "    else:\n",
    "        return None\n",
    "\n",
    "\n",
    "def get_value_kdr(values):\n",
    "    if \"killsDeathsRatio\" in values:\n",
    "        return values[\"killsDeathsRatio\"][\"basic\"][\"value\"]\n",
    "    else:\n",
    "        return None\n",
    "\n",
    "\n",
    "def get_value_kda(values):\n",
    "    if \"killsDeathsAssists\" in values:\n",
    "        return values[\"killsDeathsAssists\"][\"basic\"][\"value\"]\n",
    "    else:\n",
    "        return None\n",
    "\n",
    "\n",
    "def get_value_activity_duration(values, in_units_of=\"seconds\"):\n",
    "    # Returns activity duration in seconds\n",
    "    # TODO allow translation to other units if need be\n",
    "    if \"activityDurationSeconds\" in values:\n",
    "        return values[\"activityDurationSeconds\"][\"basic\"][\"value\"]\n",
    "    else:\n",
    "        return None\n",
    "\n",
    "\n",
    "def get_value_team(values):\n",
    "    if \"team\" in values:\n",
    "        return values[\"team\"][\"basic\"][\"value\"]\n",
    "    else:\n",
    "        return None\n",
    "\n",
    "\n",
    "def get_value_standing(values):\n",
    "    # The API marks 1 as defeat, 0 as victory; we invert that\n",
    "    if \"standing\" in values:\n",
    "        return 1 - values[\"standing\"][\"basic\"][\"value\"]\n",
    "    else: \n",
    "        return None\n",
    "\n",
    "\n",
    "def get_value_team_score(values):\n",
    "    if \"teamScore\" in values:\n",
    "        return values[\"teamScore\"][\"basic\"][\"value\"]\n",
    "    else:\n",
    "        return None\n",
    "\n",
    "\n",
    "def get_activity_history(character_data, params=None):\n",
    "    path = urljoin(API_URL, GET_ACTIVITY_HISTORY.format(**character_data))\n",
    "    r = requests.get(path, headers=HEADERS, params=params)\n",
    "\n",
    "    activities = r.json()[\"Response\"][\"activities\"]\n",
    "    print(f\"{len(activities)} activities found\")\n",
    "\n",
    "    history = []\n",
    "\n",
    "    for activity in activities:\n",
    "        period = get_activity_period(activity)\n",
    "        details = activity[\"activityDetails\"]\n",
    "        activity_name = get_director_activity_name(activity)\n",
    "        values = get_activity_values(activity)\n",
    "        id = get_activity_instance_id(activity)\n",
    "\n",
    "        # TODO: filter and bucket activities. get more. use recent activities as features per player\n",
    "        # print(f\"{period}, {activity_name}, victory?: {get_value_standing(values)}, kills: {get_value_kills(values)}, oppDef: {get_value_opponents_defeated(values)}\")\n",
    "        print(f\"{period}, {activity_name}, {id}\")\n",
    "        history.append(\n",
    "            {\n",
    "                \"period\": period,\n",
    "                \"activity_name\": activity_name,\n",
    "                \"details\": details,\n",
    "                \"values\": values,\n",
    "            }\n",
    "        )\n",
    "\n",
    "    return history"
   ]
  },
  {
   "cell_type": "code",
   "execution_count": 107,
   "metadata": {},
   "outputs": [],
   "source": [
    "STARTING_ACTIVITY_ID = 8400554258\n",
    "ENDING_ACTIVITY_ID = STARTING_ACTIVITY_ID + int(10)  # 100K\n",
    "\n",
    "API_URL = \"https://www.bungie.net/Platform/\"\n",
    "GET_ACTIVITY_HISTORY = \"Destiny2/{membershipType}/Account/{destinyMembershipId}/Character/{characterId}/Stats/Activities/\"\n",
    "GET_POST_GAME_CARNAGE_REPORT = \"Destiny2/Stats/PostGameCarnageReport/{activityId}/\"\n",
    "\n",
    "HEADERS = {\"X-API-Key\":os.environ[\"BUNGIE_API_KEY\"]}"
   ]
  },
  {
   "cell_type": "code",
   "execution_count": null,
   "metadata": {},
   "outputs": [],
   "source": []
  },
  {
   "cell_type": "code",
   "execution_count": 108,
   "metadata": {},
   "outputs": [],
   "source": [
    "instance_id=STARTING_ACTIVITY_ID+2000000\n",
    "path = urljoin(API_URL, GET_POST_GAME_CARNAGE_REPORT.format(**{\"activityId\": instance_id}))\n",
    "r = requests.get(path, headers=HEADERS, timeout=1)\n",
    "pgcr = r.json()[\"Response\"]"
   ]
  },
  {
   "cell_type": "code",
   "execution_count": 109,
   "metadata": {},
   "outputs": [],
   "source": [
    "#pgcr[\"activityDetails\"][\"mode\"]\n",
    "#pgcr"
   ]
  },
  {
   "cell_type": "code",
   "execution_count": 110,
   "metadata": {},
   "outputs": [],
   "source": [
    "def single_scrape(activity_id):\n",
    "    path = urljoin(API_URL, GET_POST_GAME_CARNAGE_REPORT.format(**{\"activityId\": activity_id}))\n",
    "    r = requests.get(path, headers=HEADERS)\n",
    "    #r = requests.get(path, headers=HEADERS, timeout=1)\n",
    "    pgcr = r.json()[\"Response\"]\n",
    "    \n",
    "    period = get_activity_period(pgcr)\n",
    "    director_activity_mode = pgcr[\"activityDetails\"][\"mode\"]\n",
    "    \n",
    "    entries = pgcr[\"entries\"]\n",
    "    # print(f\"Activity {instance_id} has {len(entries)} entries...\")\n",
    "\n",
    "    player_entries = {}\n",
    "    for i, entry in enumerate(entries):\n",
    "        # TODO handle extended and other props\n",
    "        characterId = entry[\"characterId\"]\n",
    "        player_entries[f\"player{i + 1}_char_id\"] = characterId\n",
    "\n",
    "        # Values (kills, assists, etc.)\n",
    "        if \"values\" not in entry: \n",
    "            continue\n",
    "        \n",
    "        values = entry[\"values\"]\n",
    "        player_entries[f\"player{i + 1}_kills\"] = get_value_kills(values)\n",
    "        player_entries[f\"player{i + 1}_deaths\"] = get_value_deaths(values)\n",
    "        player_entries[f\"player{i + 1}_assists\"] = get_value_assists(values)\n",
    "        player_entries[f\"player{i + 1}_kdr\"] = get_value_kdr(values)\n",
    "        player_entries[f\"player{i + 1}_kda\"] = get_value_kda(values)\n",
    "        player_entries[f\"player{i + 1}_efficiency\"] = get_value_combat_efficiency(\n",
    "            values\n",
    "        )\n",
    "        player_entries[f\"player{i + 1}_score\"] = get_value_score(values)\n",
    "\n",
    "        player_entries[f\"player{i + 1}_standing\"] = get_value_standing(values)\n",
    "        player_entries[f\"player{i + 1}_team_score\"] = get_value_team_score(values)\n",
    "        player_entries[\n",
    "            f\"player{i + 1}_activity_duration\"\n",
    "        ] = get_value_activity_duration(values)\n",
    "\n",
    "    # Return dict\n",
    "    return {\n",
    "        \"instance_id\": instance_id,\n",
    "        \"period\": period,\n",
    "        \"director_activity_mode\": director_activity_mode,\n",
    "        **player_entries,\n",
    "    }"
   ]
  },
  {
   "cell_type": "code",
   "execution_count": null,
   "metadata": {},
   "outputs": [],
   "source": []
  },
  {
   "cell_type": "code",
   "execution_count": 111,
   "metadata": {},
   "outputs": [],
   "source": [
    "def multi_scrape(start, end, mode):\n",
    "    dataset=[]\n",
    "    for activity_id in range(start,end):\n",
    "        data_point = single_scrape(activity_id)\n",
    "        if data_point[\"director_activity_mode\"] == mode:\n",
    "            dataset.append(data_point)\n",
    "    df = pd.DataFrame(dataset)\n",
    "    print(df)\n",
    "    #df.to_csv(\"test.csv\")"
   ]
  },
  {
   "cell_type": "code",
   "execution_count": 112,
   "metadata": {},
   "outputs": [
    {
     "name": "stdout",
     "output_type": "stream",
     "text": [
      "Empty DataFrame\n",
      "Columns: []\n",
      "Index: []\n"
     ]
    }
   ],
   "source": [
    "multi_scrape(STARTING_ACTIVITY_ID+1000,STARTING_ACTIVITY_ID+1005, 5)"
   ]
  },
  {
   "cell_type": "code",
   "execution_count": null,
   "metadata": {},
   "outputs": [],
   "source": []
  },
  {
   "cell_type": "code",
   "execution_count": null,
   "metadata": {},
   "outputs": [],
   "source": []
  },
  {
   "cell_type": "code",
   "execution_count": null,
   "metadata": {},
   "outputs": [],
   "source": []
  }
 ],
 "metadata": {
  "kernelspec": {
   "display_name": "Python 3",
   "language": "python",
   "name": "python3"
  },
  "language_info": {
   "codemirror_mode": {
    "name": "ipython",
    "version": 3
   },
   "file_extension": ".py",
   "mimetype": "text/x-python",
   "name": "python",
   "nbconvert_exporter": "python",
   "pygments_lexer": "ipython3",
   "version": "3.7.6"
  }
 },
 "nbformat": 4,
 "nbformat_minor": 4
}
