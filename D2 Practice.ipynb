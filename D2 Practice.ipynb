{
 "cells": [
  {
   "cell_type": "markdown",
   "metadata": {},
   "source": [
    "# Destiny 2 ML practice project"
   ]
  },
  {
   "cell_type": "markdown",
   "metadata": {},
   "source": [
    "Many thanks to Garrick Fernandez (https://github.com/garrickf) for code outline for Bungie API data collection!"
   ]
  },
  {
   "cell_type": "markdown",
   "metadata": {},
   "source": [
    "This will be an exploration of various data science concepts, with no set plan as of now other than to explore the data available. A couple ideas could be: <br>\n",
    "-Identifying hackers in trails  <br>\n",
    "-Predicting which team will win in PvP  <br>\n",
    "-Identify trends which increase player engagement eg. good trials weapon - hypothesis testing??<br>"
   ]
  },
  {
   "cell_type": "code",
   "execution_count": 186,
   "metadata": {},
   "outputs": [
    {
     "name": "stdout",
     "output_type": "stream",
     "text": [
      "Gjallarhorn\n"
     ]
    }
   ],
   "source": [
    "HEADERS = {\"X-API-Key\":os.environ[\"BUNGIE_API_KEY\"]}\n",
    "weapon = requests.get(\"https://www.bungie.net/platform/Destiny/Manifest/InventoryItem/1274330687/\", headers=HEADERS)\n",
    "inventoryItem = weapon.json()\n",
    "print(inventoryItem['Response']['data']['inventoryItem']['itemName'])"
   ]
  },
  {
   "cell_type": "code",
   "execution_count": 188,
   "metadata": {},
   "outputs": [
    {
     "data": {
      "text/plain": [
       "{'Response': {'period': '2017-09-08T04:23:17Z',\n",
       "  'startingPhaseIndex': 0,\n",
       "  'activityWasStartedFromBeginning': False,\n",
       "  'activityDetails': {'referenceId': 2266954523,\n",
       "   'directorActivityHash': 2266954523,\n",
       "   'instanceId': '84005478',\n",
       "   'mode': 2,\n",
       "   'modes': [7, 2],\n",
       "   'isPrivate': False,\n",
       "   'membershipType': 0},\n",
       "  'entries': [{'standing': 0,\n",
       "    'score': {'basic': {'value': 0.0, 'displayValue': '0'}},\n",
       "    'player': {'destinyUserInfo': {'iconPath': '/common/destiny2_content/icons/ecd4608be3fb1c02755a96dc104dc003.jpg',\n",
       "      'crossSaveOverride': 2,\n",
       "      'applicableMembershipTypes': [3, 2],\n",
       "      'isPublic': True,\n",
       "      'membershipType': 2,\n",
       "      'membershipId': '4611686018450981322',\n",
       "      'displayName': 'rockerman91',\n",
       "      'bungieGlobalDisplayName': 'rockerman91',\n",
       "      'bungieGlobalDisplayNameCode': 4972},\n",
       "     'characterClass': 'Titan',\n",
       "     'classHash': 3655393761,\n",
       "     'raceHash': 3887404748,\n",
       "     'genderHash': 3111576190,\n",
       "     'characterLevel': 20,\n",
       "     'lightLevel': 283,\n",
       "     'emblemHash': 3338748564},\n",
       "    'characterId': '2305843009267430111',\n",
       "    'values': {'assists': {'basic': {'value': 0.0, 'displayValue': '0'}},\n",
       "     'completed': {'basic': {'value': 1.0, 'displayValue': 'Yes'}},\n",
       "     'deaths': {'basic': {'value': 0.0, 'displayValue': '0'}},\n",
       "     'kills': {'basic': {'value': 0.0, 'displayValue': '0'}},\n",
       "     'opponentsDefeated': {'basic': {'value': 0.0, 'displayValue': '0'}},\n",
       "     'efficiency': {'basic': {'value': 0.0, 'displayValue': '0.00'}},\n",
       "     'killsDeathsRatio': {'basic': {'value': 0.0, 'displayValue': '0.00'}},\n",
       "     'killsDeathsAssists': {'basic': {'value': 0.0, 'displayValue': '0.00'}},\n",
       "     'score': {'basic': {'value': 0.0, 'displayValue': '0'}},\n",
       "     'activityDurationSeconds': {'basic': {'value': 27.0,\n",
       "       'displayValue': '0m 27s'}},\n",
       "     'completionReason': {'basic': {'value': 0.0,\n",
       "       'displayValue': 'Objective Completed'}},\n",
       "     'fireteamId': {'basic': {'value': 0.0, 'displayValue': ''}},\n",
       "     'startSeconds': {'basic': {'value': 0.0, 'displayValue': '0m 0s'}},\n",
       "     'timePlayedSeconds': {'basic': {'value': 27.0, 'displayValue': '0m 27s'}},\n",
       "     'playerCount': {'basic': {'value': 1.0, 'displayValue': '1'}},\n",
       "     'teamScore': {'basic': {'value': 0.0, 'displayValue': '0'}}},\n",
       "    'extended': {'values': {'precisionKills': {'basic': {'value': 0.0,\n",
       "        'displayValue': '0'}},\n",
       "      'weaponKillsGrenade': {'basic': {'value': 0.0, 'displayValue': '0'}},\n",
       "      'weaponKillsMelee': {'basic': {'value': 0.0, 'displayValue': '0'}},\n",
       "      'weaponKillsSuper': {'basic': {'value': 0.0, 'displayValue': '0'}},\n",
       "      'weaponKillsAbility': {'basic': {'value': 0.0, 'displayValue': '0'}}}}}],\n",
       "  'teams': []},\n",
       " 'ErrorCode': 1,\n",
       " 'ThrottleSeconds': 0,\n",
       " 'ErrorStatus': 'Success',\n",
       " 'Message': 'Ok',\n",
       " 'MessageData': {}}"
      ]
     },
     "execution_count": 188,
     "metadata": {},
     "output_type": "execute_result"
    }
   ],
   "source": [
    "game = requests.get(\"https://www.bungie.net/platform/Destiny2/Stats/PostGameCarnageReport/84005478/\", headers=HEADERS)\n",
    "report = game.json()\n",
    "report"
   ]
  },
  {
   "cell_type": "code",
   "execution_count": 259,
   "metadata": {},
   "outputs": [
    {
     "name": "stdout",
     "output_type": "stream",
     "text": [
      "<Response [200]>\n"
     ]
    }
   ],
   "source": [
    "try1 = requests.get(\"https://www.bungie.net/Platform/User/GetBungieNetUserById/1/\",headers=HEADERS)\n",
    "print(try1)\n",
    "#try1.json()"
   ]
  },
  {
   "cell_type": "code",
   "execution_count": 260,
   "metadata": {},
   "outputs": [],
   "source": [
    "try2 = requests.get(\"https://www.bungie.net/Platform/Trending/Categories/\", headers=HEADERS)\n",
    "#try2.json()"
   ]
  },
  {
   "cell_type": "code",
   "execution_count": 261,
   "metadata": {},
   "outputs": [],
   "source": [
    "try3 = requests.get(\"https://www.bungie.net/Platform//HelloWorld/\", headers=HEADERS)\n",
    "#try3.json()"
   ]
  },
  {
   "cell_type": "code",
   "execution_count": 262,
   "metadata": {},
   "outputs": [],
   "source": [
    "try4 = requests.get(\"https://www.bungie.net/Platform//GlobalAlerts/\", headers=HEADERS)\n",
    "#try4.json()"
   ]
  },
  {
   "cell_type": "code",
   "execution_count": 263,
   "metadata": {},
   "outputs": [],
   "source": [
    "try5 = requests.get(\"https://bungie.net/Platform/Destiny2/Stats/PostGameCarnageReport/\" + str(7234123546),headers=HEADERS)\n",
    "#try5.json()"
   ]
  },
  {
   "cell_type": "code",
   "execution_count": 264,
   "metadata": {},
   "outputs": [],
   "source": [
    "try6 = requests.get(\"https://bungie.net/Platform/Destiny2/SearchDestinyPlayer/All/\" + 'newksie', headers=HEADERS)\n",
    "#try6.json()"
   ]
  },
  {
   "cell_type": "code",
   "execution_count": 265,
   "metadata": {},
   "outputs": [
    {
     "data": {
      "text/plain": [
       "'4611686018467732204'"
      ]
     },
     "execution_count": 265,
     "metadata": {},
     "output_type": "execute_result"
    }
   ],
   "source": [
    "try7 = requests.get(\"https://www.bungie.net/Platform/User/Search/Prefix/newksie/0/\", headers=HEADERS)\n",
    "mymembershipId = try7.json()['Response']['searchResults'][0]['destinyMemberships'][0]['membershipId']\n",
    "mymembershipId\n",
    "#try8 = requests.get(\"https://www.bungie.net/Platform/Destiny2/3/Profile/\"+str(mymembershipId)+'/',headers=HEADERS)\n",
    "#try8.json()"
   ]
  },
  {
   "cell_type": "code",
   "execution_count": 266,
   "metadata": {},
   "outputs": [],
   "source": [
    "import json\n",
    "import os\n",
    "import time\n",
    "from urllib.parse import urljoin\n",
    "import pandas as pd\n",
    "import requests\n",
    "\n",
    "def get_activity_period(activity):\n",
    "    return activity[\"period\"]\n",
    "\n",
    "\n",
    "def get_activity_reference_id(activity):\n",
    "    return activity[\"activityDetails\"][\"referenceId\"]\n",
    "\n",
    "\n",
    "def get_activity_instance_id(activity):\n",
    "    # Used for looking up post-game carnage reports (PGCRs)\n",
    "    return activity[\"activityDetails\"][\"instanceId\"]\n",
    "\n",
    "\n",
    "def get_activity_values(activity):\n",
    "    return activity[\"values\"]\n",
    "\n",
    "\n",
    "def get_value_kills(values):\n",
    "    if \"kills\" in values:\n",
    "        return values[\"kills\"][\"basic\"][\"value\"]\n",
    "    else:\n",
    "        return None\n",
    "\n",
    "\n",
    "def get_value_deaths(values):\n",
    "    if \"deaths\" in values:\n",
    "        return values[\"deaths\"][\"basic\"][\"value\"]\n",
    "    else:\n",
    "        return None\n",
    "\n",
    "\n",
    "def get_value_assists(values):\n",
    "    if \"assists\" in values:\n",
    "        return values[\"assists\"][\"basic\"][\"value\"]\n",
    "    else:\n",
    "        return None\n",
    "\n",
    "\n",
    "def get_value_score(values):\n",
    "    if \"score\" in values:\n",
    "        return values[\"score\"][\"basic\"][\"value\"]\n",
    "    else:\n",
    "        return None\n",
    "\n",
    "\n",
    "def get_value_completed(values):\n",
    "    # 1 if completed\n",
    "    if \"completed\" in values:\n",
    "        return values[\"completed\"][\"basic\"][\"value\"]\n",
    "    else:\n",
    "        return None\n",
    "\n",
    "\n",
    "def get_value_opponents_defeated(values):\n",
    "    if \"opponentsDefeated\" in values:\n",
    "        return values[\"opponentsDefeated\"][\"basic\"][\"value\"]\n",
    "    else:\n",
    "        return None\n",
    "\n",
    "\n",
    "def get_value_combat_efficiency(values):\n",
    "    if \"efficiency\" in values:\n",
    "        return values[\"efficiency\"][\"basic\"][\"value\"]\n",
    "    else:\n",
    "        return None\n",
    "\n",
    "\n",
    "def get_value_kdr(values):\n",
    "    if \"killsDeathsRatio\" in values:\n",
    "        return values[\"killsDeathsRatio\"][\"basic\"][\"value\"]\n",
    "    else:\n",
    "        return None\n",
    "\n",
    "\n",
    "def get_value_kda(values):\n",
    "    if \"killsDeathsAssists\" in values:\n",
    "        return values[\"killsDeathsAssists\"][\"basic\"][\"value\"]\n",
    "    else:\n",
    "        return None\n",
    "\n",
    "\n",
    "def get_value_activity_duration(values, in_units_of=\"seconds\"):\n",
    "    if \"activityDurationSeconds\" in values:\n",
    "        return values[\"activityDurationSeconds\"][\"basic\"][\"value\"]\n",
    "    else:\n",
    "        return None\n",
    "\n",
    "\n",
    "def get_value_team(values):\n",
    "    if \"team\" in values:\n",
    "        return values[\"team\"][\"basic\"][\"value\"]\n",
    "    else:\n",
    "        return None\n",
    "\n",
    "\n",
    "def get_value_standing(values):\n",
    "    # The API marks 1 as defeat, 0 as victory, so 1-***\n",
    "    if \"standing\" in values:\n",
    "        return 1 - values[\"standing\"][\"basic\"][\"value\"]\n",
    "    else: \n",
    "        return None\n",
    "\n",
    "\n",
    "def get_value_team_score(values):\n",
    "    if \"teamScore\" in values:\n",
    "        return values[\"teamScore\"][\"basic\"][\"value\"]\n",
    "    else:\n",
    "        return None\n",
    "\n",
    "\n",
    "def get_activity_history(character_data, params=None):\n",
    "    path = urljoin(API_URL, GET_ACTIVITY_HISTORY.format(**character_data))\n",
    "    r = requests.get(path, headers=HEADERS, params=params)\n",
    "\n",
    "    activities = r.json()[\"Response\"][\"activities\"]\n",
    "    print(f\"{len(activities)} activities found\")\n",
    "\n",
    "    history = []\n",
    "\n",
    "    for activity in activities:\n",
    "        period = get_activity_period(activity)\n",
    "        details = activity[\"activityDetails\"]\n",
    "        activity_name = get_director_activity_name(activity)\n",
    "        values = get_activity_values(activity)\n",
    "        id = get_activity_instance_id(activity)\n",
    "        print(f\"{period}, {activity_name}, {id}\")\n",
    "        history.append(\n",
    "            {\n",
    "                \"period\": period,\n",
    "                \"activity_name\": activity_name,\n",
    "                \"details\": details,\n",
    "                \"values\": values,\n",
    "            }\n",
    "        )\n",
    "\n",
    "    return history"
   ]
  },
  {
   "cell_type": "code",
   "execution_count": 267,
   "metadata": {},
   "outputs": [],
   "source": [
    "STARTING_ACTIVITY_ID = 8400554258\n",
    "ENDING_ACTIVITY_ID = STARTING_ACTIVITY_ID + int(10)\n",
    "\n",
    "API_URL = \"https://www.bungie.net/Platform/\"\n",
    "GET_ACTIVITY_HISTORY = \"Destiny2/{membershipType}/Account/{destinyMembershipId}/Character/{characterId}/Stats/Activities/\"\n",
    "GET_POST_GAME_CARNAGE_REPORT = \"Destiny2/Stats/PostGameCarnageReport/{activityId}/\"\n",
    "\n",
    "HEADERS = {\"X-API-Key\":os.environ[\"BUNGIE_API_KEY\"]}"
   ]
  },
  {
   "cell_type": "code",
   "execution_count": null,
   "metadata": {},
   "outputs": [],
   "source": []
  },
  {
   "cell_type": "code",
   "execution_count": 268,
   "metadata": {},
   "outputs": [
    {
     "data": {
      "text/plain": [
       "{'period': '2021-05-08T01:39:17Z',\n",
       " 'startingPhaseIndex': 0,\n",
       " 'activityWasStartedFromBeginning': False,\n",
       " 'activityDetails': {'referenceId': 1517708944,\n",
       "  'directorActivityHash': 1517708944,\n",
       "  'instanceId': '8402554258',\n",
       "  'mode': 2,\n",
       "  'modes': [7, 2],\n",
       "  'isPrivate': False,\n",
       "  'membershipType': 0},\n",
       " 'entries': [{'standing': 0,\n",
       "   'score': {'basic': {'value': 0.0, 'displayValue': '0'}},\n",
       "   'player': {'destinyUserInfo': {'iconPath': '/common/destiny2_content/icons/a8170d3363513067f140c17ea0c4c96e.jpg',\n",
       "     'crossSaveOverride': 0,\n",
       "     'applicableMembershipTypes': [1],\n",
       "     'isPublic': True,\n",
       "     'membershipType': 1,\n",
       "     'membershipId': '4611686018493721496',\n",
       "     'displayName': 'NDL Prodigy5814',\n",
       "     'bungieGlobalDisplayName': 'NDL Prodigy5814',\n",
       "     'bungieGlobalDisplayNameCode': 1077},\n",
       "    'characterClass': 'Hunter',\n",
       "    'classHash': 671679327,\n",
       "    'raceHash': 3887404748,\n",
       "    'genderHash': 3111576190,\n",
       "    'characterLevel': 50,\n",
       "    'lightLevel': 1320,\n",
       "    'emblemHash': 1230660648},\n",
       "   'characterId': '2305843009699265452',\n",
       "   'values': {'assists': {'basic': {'value': 0.0, 'displayValue': '0'}},\n",
       "    'completed': {'basic': {'value': 1.0, 'displayValue': 'Yes'}},\n",
       "    'deaths': {'basic': {'value': 0.0, 'displayValue': '0'}},\n",
       "    'kills': {'basic': {'value': 88.0, 'displayValue': '88'}},\n",
       "    'opponentsDefeated': {'basic': {'value': 88.0, 'displayValue': '88'}},\n",
       "    'efficiency': {'basic': {'value': 88.0, 'displayValue': '88.00'}},\n",
       "    'killsDeathsRatio': {'basic': {'value': 88.0, 'displayValue': '88.00'}},\n",
       "    'killsDeathsAssists': {'basic': {'value': 88.0, 'displayValue': '88.00'}},\n",
       "    'score': {'basic': {'value': 0.0, 'displayValue': '0'}},\n",
       "    'activityDurationSeconds': {'basic': {'value': 824.0,\n",
       "      'displayValue': '13m 44s'}},\n",
       "    'completionReason': {'basic': {'value': 0.0,\n",
       "      'displayValue': 'Objective Completed'}},\n",
       "    'fireteamId': {'basic': {'value': 5.083079271167254e+18,\n",
       "      'displayValue': '-2147483648'}},\n",
       "    'startSeconds': {'basic': {'value': 0.0, 'displayValue': '0m 0s'}},\n",
       "    'timePlayedSeconds': {'basic': {'value': 824.0,\n",
       "      'displayValue': '13m 44s'}},\n",
       "    'playerCount': {'basic': {'value': 1.0, 'displayValue': '1'}},\n",
       "    'teamScore': {'basic': {'value': 0.0, 'displayValue': '0'}}},\n",
       "   'extended': {'weapons': [{'referenceId': 347366834,\n",
       "      'values': {'uniqueWeaponKills': {'basic': {'value': 32.0,\n",
       "         'displayValue': '32'}},\n",
       "       'uniqueWeaponPrecisionKills': {'basic': {'value': 14.0,\n",
       "         'displayValue': '14'}},\n",
       "       'uniqueWeaponKillsPrecisionKills': {'basic': {'value': 0.4375,\n",
       "         'displayValue': '44%'}}}},\n",
       "     {'referenceId': 2060863616,\n",
       "      'values': {'uniqueWeaponKills': {'basic': {'value': 15.0,\n",
       "         'displayValue': '15'}},\n",
       "       'uniqueWeaponPrecisionKills': {'basic': {'value': 0.0,\n",
       "         'displayValue': '0'}},\n",
       "       'uniqueWeaponKillsPrecisionKills': {'basic': {'value': 0.0,\n",
       "         'displayValue': '0%'}}}}],\n",
       "    'values': {'precisionKills': {'basic': {'value': 14.0,\n",
       "       'displayValue': '14'}},\n",
       "     'weaponKillsGrenade': {'basic': {'value': 4.0, 'displayValue': '4'}},\n",
       "     'weaponKillsMelee': {'basic': {'value': 23.0, 'displayValue': '23'}},\n",
       "     'weaponKillsSuper': {'basic': {'value': 0.0, 'displayValue': '0'}},\n",
       "     'weaponKillsAbility': {'basic': {'value': 0.0, 'displayValue': '0'}}}}}],\n",
       " 'teams': []}"
      ]
     },
     "execution_count": 268,
     "metadata": {},
     "output_type": "execute_result"
    }
   ],
   "source": [
    "instance_id=STARTING_ACTIVITY_ID+2000000\n",
    "path = urljoin(API_URL, GET_POST_GAME_CARNAGE_REPORT.format(**{\"activityId\": instance_id}))\n",
    "r = requests.get(path, headers=HEADERS, timeout=1)\n",
    "pgcr = r.json()[\"Response\"]\n",
    "pgcr"
   ]
  },
  {
   "cell_type": "code",
   "execution_count": 269,
   "metadata": {},
   "outputs": [],
   "source": [
    "#pgcr[\"activityDetails\"][\"mode\"]\n",
    "#pgcr"
   ]
  },
  {
   "cell_type": "code",
   "execution_count": 270,
   "metadata": {},
   "outputs": [],
   "source": [
    "# LOOK HERE\n",
    "# Scrapes API for activities of a given mode, specified by \n",
    "# https://bungie-net.github.io/multi/\n",
    "# schema_Destiny-HistoricalStats-Definitions-DestinyActivityModeType.html#schema_Destiny-\n",
    "# HistoricalStats-Definitions-DestinyActivityModeType\n",
    "\n",
    "def single_scrape(activity_id,mode):\n",
    "    path = urljoin(API_URL, GET_POST_GAME_CARNAGE_REPORT.format(**{\"activityId\": activity_id}))\n",
    "    r = requests.get(path, headers=HEADERS)\n",
    "    #r = requests.get(path, headers=HEADERS, timeout=1)\n",
    "    pgcr = r.json()[\"Response\"]\n",
    "    \n",
    "    period = get_activity_period(pgcr)\n",
    "    director_activity_mode = pgcr[\"activityDetails\"][\"mode\"]\n",
    "    if director_activity_mode!=mode:\n",
    "        return None\n",
    "\n",
    "    player_entries = {}\n",
    "    for i, entry in enumerate(entries):\n",
    "        characterId = entry[\"characterId\"]\n",
    "        player_entries[f\"player{i + 1}_char_id\"] = characterId\n",
    "\n",
    "        # Values (kills, assists, etc.)\n",
    "        if \"values\" not in entry: \n",
    "            continue\n",
    "        \n",
    "        values = entry[\"values\"]\n",
    "        player_entries[f\"player{i + 1}_kills\"] = get_value_kills(values)\n",
    "        player_entries[f\"player{i + 1}_deaths\"] = get_value_deaths(values)\n",
    "        player_entries[f\"player{i + 1}_assists\"] = get_value_assists(values)\n",
    "        player_entries[f\"player{i + 1}_kdr\"] = get_value_kdr(values)\n",
    "        player_entries[f\"player{i + 1}_kda\"] = get_value_kda(values)\n",
    "        player_entries[f\"player{i + 1}_efficiency\"] = get_value_combat_efficiency(values)\n",
    "        player_entries[f\"player{i + 1}_score\"] = get_value_score(values)\n",
    "        player_entries[f\"player{i + 1}_standing\"] = get_value_standing(values)\n",
    "        player_entries[f\"player{i + 1}_team_score\"] = get_value_team_score(values)\n",
    "        player_entries[f\"player{i + 1}_activity_duration\"] = get_value_activity_duration(values)\n",
    "\n",
    "    # Return dict\n",
    "    return {\n",
    "        \"instance_id\": activity_id,\n",
    "        \"period\": period,\n",
    "        \"director_activity_mode\": director_activity_mode,\n",
    "        **player_entries,\n",
    "    }"
   ]
  },
  {
   "cell_type": "code",
   "execution_count": null,
   "metadata": {},
   "outputs": [],
   "source": []
  },
  {
   "cell_type": "code",
   "execution_count": 271,
   "metadata": {},
   "outputs": [],
   "source": [
    "#LOOK HERE\n",
    "#Loops single scrape for peroid described\n",
    "def multi_scrape(start, end, mode):\n",
    "    dataset=[]\n",
    "    for activity_id in range(start,end):\n",
    "        data_point = single_scrape(activity_id,mode)\n",
    "        if data_point != None:\n",
    "            dataset.append(data_point)\n",
    "    df = pd.DataFrame(dataset)\n",
    "    return df\n",
    "    #df.to_csv(\"test.csv\")"
   ]
  },
  {
   "cell_type": "code",
   "execution_count": 272,
   "metadata": {},
   "outputs": [
    {
     "data": {
      "text/plain": [
       "5866100000"
      ]
     },
     "execution_count": 272,
     "metadata": {},
     "output_type": "execute_result"
    }
   ],
   "source": [
    "week1start=5866000000\n",
    "week1end=5900000000\n",
    "week1start+100000\n",
    "#print(week1end-week1start)\n",
    "#multi_scrape(5866000000,590000000, 84)"
   ]
  },
  {
   "cell_type": "code",
   "execution_count": null,
   "metadata": {},
   "outputs": [],
   "source": []
  },
  {
   "cell_type": "code",
   "execution_count": 273,
   "metadata": {},
   "outputs": [
    {
     "data": {
      "text/plain": [
       "{'Response': {'period': '2020-03-14T10:57:39Z',\n",
       "  'startingPhaseIndex': -1,\n",
       "  'activityWasStartedFromBeginning': False,\n",
       "  'activityDetails': {'referenceId': 3966792859,\n",
       "   'directorActivityHash': 3966792859,\n",
       "   'instanceId': '5876000000',\n",
       "   'mode': 6,\n",
       "   'modes': [7, 6],\n",
       "   'isPrivate': False,\n",
       "   'membershipType': 3},\n",
       "  'entries': [{'standing': 0,\n",
       "    'score': {'basic': {'value': 0.0, 'displayValue': '0'}},\n",
       "    'player': {'destinyUserInfo': {'iconPath': '/common/destiny2_content/icons/cb75fe0f22015ba50953ec3a0700d07a.jpg',\n",
       "      'crossSaveOverride': 0,\n",
       "      'applicableMembershipTypes': [3],\n",
       "      'isPublic': True,\n",
       "      'membershipType': 3,\n",
       "      'membershipId': '4611686018485916336',\n",
       "      'displayName': 'RUSSIAN БЫДЛОS',\n",
       "      'bungieGlobalDisplayName': ''},\n",
       "     'characterClass': 'Titan',\n",
       "     'classHash': 3655393761,\n",
       "     'raceHash': 3887404748,\n",
       "     'genderHash': 3111576190,\n",
       "     'characterLevel': 50,\n",
       "     'lightLevel': 942,\n",
       "     'emblemHash': 185321779},\n",
       "    'characterId': '2305843009431044375',\n",
       "    'values': {'assists': {'basic': {'value': 0.0, 'displayValue': '0'}},\n",
       "     'completed': {'basic': {'value': 0.0, 'displayValue': 'No'}},\n",
       "     'deaths': {'basic': {'value': 0.0, 'displayValue': '0'}},\n",
       "     'kills': {'basic': {'value': 30.0, 'displayValue': '30'}},\n",
       "     'opponentsDefeated': {'basic': {'value': 30.0, 'displayValue': '30'}},\n",
       "     'efficiency': {'basic': {'value': 30.0, 'displayValue': '30.00'}},\n",
       "     'killsDeathsRatio': {'basic': {'value': 30.0, 'displayValue': '30.00'}},\n",
       "     'killsDeathsAssists': {'basic': {'value': 30.0, 'displayValue': '30.00'}},\n",
       "     'score': {'basic': {'value': 0.0, 'displayValue': '0'}},\n",
       "     'activityDurationSeconds': {'basic': {'value': 330.0,\n",
       "       'displayValue': '5m 30s'}},\n",
       "     'completionReason': {'basic': {'value': 255.0,\n",
       "       'displayValue': 'Unknown'}},\n",
       "     'fireteamId': {'basic': {'value': 8.866843500124762e+17,\n",
       "       'displayValue': '-2147483648'}},\n",
       "     'startSeconds': {'basic': {'value': 0.0, 'displayValue': '0m 0s'}},\n",
       "     'timePlayedSeconds': {'basic': {'value': 310.0,\n",
       "       'displayValue': '5m 10s'}},\n",
       "     'playerCount': {'basic': {'value': 1.0, 'displayValue': '1'}},\n",
       "     'teamScore': {'basic': {'value': 0.0, 'displayValue': '0'}}},\n",
       "    'extended': {'weapons': [{'referenceId': 2362471600,\n",
       "       'values': {'uniqueWeaponKills': {'basic': {'value': 20.0,\n",
       "          'displayValue': '20'}},\n",
       "        'uniqueWeaponPrecisionKills': {'basic': {'value': 1.0,\n",
       "          'displayValue': '1'}},\n",
       "        'uniqueWeaponKillsPrecisionKills': {'basic': {'value': 0.05,\n",
       "          'displayValue': '5%'}}}},\n",
       "      {'referenceId': 2907129556,\n",
       "       'values': {'uniqueWeaponKills': {'basic': {'value': 9.0,\n",
       "          'displayValue': '9'}},\n",
       "        'uniqueWeaponPrecisionKills': {'basic': {'value': 1.0,\n",
       "          'displayValue': '1'}},\n",
       "        'uniqueWeaponKillsPrecisionKills': {'basic': {'value': 0.1111111111111111,\n",
       "          'displayValue': '11%'}}}}],\n",
       "     'values': {'precisionKills': {'basic': {'value': 2.0,\n",
       "        'displayValue': '2'}},\n",
       "      'weaponKillsGrenade': {'basic': {'value': 0.0, 'displayValue': '0'}},\n",
       "      'weaponKillsMelee': {'basic': {'value': 1.0, 'displayValue': '1'}},\n",
       "      'weaponKillsSuper': {'basic': {'value': 0.0, 'displayValue': '0'}},\n",
       "      'weaponKillsAbility': {'basic': {'value': 0.0, 'displayValue': '0'}}}}}],\n",
       "  'teams': []},\n",
       " 'ErrorCode': 1,\n",
       " 'ThrottleSeconds': 0,\n",
       " 'ErrorStatus': 'Success',\n",
       " 'Message': 'Ok',\n",
       " 'MessageData': {}}"
      ]
     },
     "execution_count": 273,
     "metadata": {},
     "output_type": "execute_result"
    }
   ],
   "source": [
    "#Trying to find id where trials of osiris begins, ie, 13th March 2020\n",
    "trialsgame = requests.get(\"https://www.bungie.net/platform/Destiny2/Stats/PostGameCarnageReport/5876000000/\", headers=HEADERS)\n",
    "trialsreport = trialsgame.json()\n",
    "trialsreport\n"
   ]
  },
  {
   "cell_type": "code",
   "execution_count": 274,
   "metadata": {},
   "outputs": [
    {
     "data": {
      "text/html": [
       "<div>\n",
       "<style scoped>\n",
       "    .dataframe tbody tr th:only-of-type {\n",
       "        vertical-align: middle;\n",
       "    }\n",
       "\n",
       "    .dataframe tbody tr th {\n",
       "        vertical-align: top;\n",
       "    }\n",
       "\n",
       "    .dataframe thead th {\n",
       "        text-align: right;\n",
       "    }\n",
       "</style>\n",
       "<table border=\"1\" class=\"dataframe\">\n",
       "  <thead>\n",
       "    <tr style=\"text-align: right;\">\n",
       "      <th></th>\n",
       "    </tr>\n",
       "  </thead>\n",
       "  <tbody>\n",
       "  </tbody>\n",
       "</table>\n",
       "</div>"
      ],
      "text/plain": [
       "Empty DataFrame\n",
       "Columns: []\n",
       "Index: []"
      ]
     },
     "execution_count": 274,
     "metadata": {},
     "output_type": "execute_result"
    }
   ],
   "source": [
    "multi_scrape(5876000000,5876000000+10,84)"
   ]
  },
  {
   "cell_type": "code",
   "execution_count": null,
   "metadata": {},
   "outputs": [],
   "source": [
    "\n"
   ]
  },
  {
   "cell_type": "code",
   "execution_count": null,
   "metadata": {},
   "outputs": [],
   "source": []
  }
 ],
 "metadata": {
  "kernelspec": {
   "display_name": "Python 3",
   "language": "python",
   "name": "python3"
  },
  "language_info": {
   "codemirror_mode": {
    "name": "ipython",
    "version": 3
   },
   "file_extension": ".py",
   "mimetype": "text/x-python",
   "name": "python",
   "nbconvert_exporter": "python",
   "pygments_lexer": "ipython3",
   "version": "3.7.6"
  }
 },
 "nbformat": 4,
 "nbformat_minor": 4
}
